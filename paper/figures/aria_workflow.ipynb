{
 "cells": [
  {
   "cell_type": "code",
   "execution_count": 3,
   "id": "fefe0d11-e0c9-4973-aab9-c8618c221f6d",
   "metadata": {},
   "outputs": [
    {
     "name": "stdout",
     "output_type": "stream",
     "text": [
      "Flowchart generated as 'aria_workflow.png'.\n"
     ]
    }
   ],
   "source": [
    "import seaborn as sns\n",
    "import matplotlib.colors as mcolors\n",
    "from graphviz import Digraph\n",
    "\n",
    "# Generate a significantly lighter color palette\n",
    "color_scale = sns.light_palette(\"#0071A4\", n_colors=4, reverse=True)\n",
    "hex_colors = [mcolors.to_hex(c) for c in color_scale]\n",
    "\n",
    "# Assign lighter colors consistently by shape type\n",
    "shape_colors = {\n",
    "    \"oval\": hex_colors[0],           # Lightest blue for Start/End\n",
    "    \"parallelogram\": hex_colors[1],  # Slightly darker for inputs/outputs\n",
    "    \"box\": hex_colors[2],            # Medium shade for processes\n",
    "    \"diamond\": hex_colors[3],        # Darkest shade (but still light) for decisions\n",
    "}\n",
    "\n",
    "# Create Graphviz Digraph with lighter colors\n",
    "dot = Digraph(comment=\"ARIA Workflow with Lighter Shape-Based Colors\")\n",
    "\n",
    "# Nodes definition with lighter shades\n",
    "dot.node(\"start\", \"Start Workflow\", shape=\"oval\", style=\"filled\", fillcolor=shape_colors[\"oval\"])\n",
    "dot.node(\"xlsx\", \"Aggregate inventory data\\nper functional unit\\n(xlsx)\", shape=\"parallelogram\", style=\"filled\", fillcolor=shape_colors[\"parallelogram\"])\n",
    "dot.node(\"aria\", \"Read & preprocess\\nin ARIA\", shape=\"box\", style=\"filled\", fillcolor=shape_colors[\"box\"])\n",
    "dot.node(\"decision\", \"Ecoinvent search:\\ndirect matches?\", shape=\"diamond\", style=\"filled\", fillcolor=shape_colors[\"diamond\"])\n",
    "dot.node(\"no_match\", \"AI suggests\\nalternative terms\", shape=\"box\", style=\"filled\", fillcolor=shape_colors[\"box\"])\n",
    "dot.node(\"refine\", \"Refinement:\\nChatGPT selects representative datasets\", shape=\"box\", style=\"filled\", fillcolor=shape_colors[\"box\"])\n",
    "dot.node(\"bway\", \"Brightway2 Impact Assessment\\n(EF v3.1 default)\", shape=\"box\", style=\"filled\", fillcolor=shape_colors[\"box\"])\n",
    "dot.node(\"output\", \"Impact assessment results,\\nplots & DataFrame\", shape=\"parallelogram\", style=\"filled\", fillcolor=shape_colors[\"parallelogram\"])\n",
    "dot.node(\"end\", \"End Workflow\", shape=\"oval\", style=\"filled\", fillcolor=shape_colors[\"oval\"])\n",
    "\n",
    "# Connect nodes with edges\n",
    "dot.edge(\"start\", \"xlsx\")\n",
    "dot.edge(\"xlsx\", \"aria\")\n",
    "dot.edge(\"aria\", \"decision\")\n",
    "dot.edge(\"decision\", \"refine\", label=\"Yes, match found\")\n",
    "dot.edge(\"decision\", \"no_match\", label=\"If no match\")\n",
    "dot.edge(\"no_match\", \"decision\", label=\"Retry search\")\n",
    "dot.edge(\"refine\", \"bway\")\n",
    "dot.edge(\"bway\", \"output\")\n",
    "dot.edge(\"output\", \"end\")\n",
    "\n",
    "# Render the graph\n",
    "dot.render(\"aria_workflow\", format=\"png\", cleanup=True)\n",
    "print(\"Flowchart generated as 'aria_workflow.png'.\")\n",
    "\n"
   ]
  },
  {
   "cell_type": "code",
   "execution_count": null,
   "id": "c79c71ea-d0df-4b3f-8d15-08c3dce4631f",
   "metadata": {},
   "outputs": [],
   "source": []
  }
 ],
 "metadata": {
  "kernelspec": {
   "display_name": "Python 3 (ipykernel)",
   "language": "python",
   "name": "python3"
  },
  "language_info": {
   "codemirror_mode": {
    "name": "ipython",
    "version": 3
   },
   "file_extension": ".py",
   "mimetype": "text/x-python",
   "name": "python",
   "nbconvert_exporter": "python",
   "pygments_lexer": "ipython3",
   "version": "3.11.9"
  }
 },
 "nbformat": 4,
 "nbformat_minor": 5
}
